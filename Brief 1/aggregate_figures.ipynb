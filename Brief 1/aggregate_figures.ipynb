{
 "cells": [
  {
   "cell_type": "markdown",
   "metadata": {},
   "source": [
    "## Small bank entry  rates \n",
    "\n",
    "This notebook provides details on the figures and computations in the Center For Research on the Wisconsin Economy (CROWE) data brief \\#1, \"The Dodd-Frank Act and Small Bank Creation.\" \n",
    "\n",
    "We analyze small-bank (less than $10 bil in assets) entry for the U.S. economy. \n",
    "\n",
    "### Files needed \n",
    "* entry_exit_2019.xlsx\n",
    "* call_reports_WI.csv "
   ]
  },
  {
   "cell_type": "code",
   "execution_count": 1,
   "metadata": {},
   "outputs": [],
   "source": [
    "import pandas as pd                    # for data handling\n",
    "import numpy as np                     # for numerical methods and data structures\n",
    "import matplotlib.pyplot as plt        # for plotting\n",
    "import pandas_datareader.data as web\n",
    "import datetime\n",
    "import patsy                           # provides a syntax for specifying models  \n",
    "import statsmodels.api as sm           # provides statistical models like ols, gmm, anova, etc...\n",
    "import statsmodels.formula.api as smf  # provides a way to directly spec models from formulas"
   ]
  },
  {
   "cell_type": "code",
   "execution_count": 2,
   "metadata": {},
   "outputs": [
    {
     "data": {
      "text/html": [
       "<div>\n",
       "<style scoped>\n",
       "    .dataframe tbody tr th:only-of-type {\n",
       "        vertical-align: middle;\n",
       "    }\n",
       "\n",
       "    .dataframe tbody tr th {\n",
       "        vertical-align: top;\n",
       "    }\n",
       "\n",
       "    .dataframe thead th {\n",
       "        text-align: right;\n",
       "    }\n",
       "</style>\n",
       "<table border=\"1\" class=\"dataframe\">\n",
       "  <thead>\n",
       "    <tr style=\"text-align: right;\">\n",
       "      <th></th>\n",
       "      <th>year</th>\n",
       "      <th>num_obs_year</th>\n",
       "      <th>num_entry</th>\n",
       "      <th>num_endenovo</th>\n",
       "      <th>num_acquier</th>\n",
       "      <th>num_enmerger</th>\n",
       "      <th>num_exit</th>\n",
       "      <th>num_target</th>\n",
       "      <th>num_exmerger</th>\n",
       "      <th>num_merger</th>\n",
       "      <th>num_exfail</th>\n",
       "      <th>ex_rate</th>\n",
       "      <th>en_rate</th>\n",
       "      <th>merger_rate</th>\n",
       "      <th>exfail_rate</th>\n",
       "      <th>exmerger_rate</th>\n",
       "      <th>endenovo_rate</th>\n",
       "      <th>num_megerplusfailuer</th>\n",
       "      <th>merger_fail_rate</th>\n",
       "    </tr>\n",
       "  </thead>\n",
       "  <tbody>\n",
       "    <tr>\n",
       "      <th>1</th>\n",
       "      <td>1977</td>\n",
       "      <td>14393</td>\n",
       "      <td>164</td>\n",
       "      <td>144</td>\n",
       "      <td>95</td>\n",
       "      <td>4</td>\n",
       "      <td>166.0</td>\n",
       "      <td>153.0</td>\n",
       "      <td>153.0</td>\n",
       "      <td>248.0</td>\n",
       "      <td>13.0</td>\n",
       "      <td>0.011531</td>\n",
       "      <td>0.011392</td>\n",
       "      <td>0.017227</td>\n",
       "      <td>0.000903</td>\n",
       "      <td>0.010628</td>\n",
       "      <td>0.010003</td>\n",
       "      <td>261.0</td>\n",
       "      <td>0.018130</td>\n",
       "    </tr>\n",
       "    <tr>\n",
       "      <th>2</th>\n",
       "      <td>1978</td>\n",
       "      <td>14368</td>\n",
       "      <td>149</td>\n",
       "      <td>124</td>\n",
       "      <td>83</td>\n",
       "      <td>3</td>\n",
       "      <td>174.0</td>\n",
       "      <td>166.0</td>\n",
       "      <td>166.0</td>\n",
       "      <td>249.0</td>\n",
       "      <td>8.0</td>\n",
       "      <td>0.012089</td>\n",
       "      <td>0.010352</td>\n",
       "      <td>0.017300</td>\n",
       "      <td>0.000556</td>\n",
       "      <td>0.011533</td>\n",
       "      <td>0.008615</td>\n",
       "      <td>257.0</td>\n",
       "      <td>0.017856</td>\n",
       "    </tr>\n",
       "  </tbody>\n",
       "</table>\n",
       "</div>"
      ],
      "text/plain": [
       "   year  num_obs_year  num_entry  num_endenovo  num_acquier  num_enmerger  \\\n",
       "1  1977         14393        164           144           95             4   \n",
       "2  1978         14368        149           124           83             3   \n",
       "\n",
       "   num_exit  num_target  num_exmerger  num_merger  num_exfail   ex_rate  \\\n",
       "1     166.0       153.0         153.0       248.0        13.0  0.011531   \n",
       "2     174.0       166.0         166.0       249.0         8.0  0.012089   \n",
       "\n",
       "    en_rate  merger_rate  exfail_rate  exmerger_rate  endenovo_rate  \\\n",
       "1  0.011392     0.017227     0.000903       0.010628       0.010003   \n",
       "2  0.010352     0.017300     0.000556       0.011533       0.008615   \n",
       "\n",
       "   num_megerplusfailuer  merger_fail_rate  \n",
       "1                 261.0          0.018130  \n",
       "2                 257.0          0.017856  "
      ]
     },
     "execution_count": 2,
     "metadata": {},
     "output_type": "execute_result"
    }
   ],
   "source": [
    "# Data from Kuan Liu used in Liu (2019)\n",
    "data = pd.read_excel('entry_exit_2019.xlsx')\n",
    "data = data[data.year != 1976]                    # 1976 does not have complete data\n",
    "data.head(2)"
   ]
  },
  {
   "cell_type": "markdown",
   "metadata": {},
   "source": [
    "Let's plot the data. This figure replicates figure 1 in Liu (2019)."
   ]
  },
  {
   "cell_type": "code",
   "execution_count": 3,
   "metadata": {},
   "outputs": [
    {
     "data": {
      "image/png": "[encoded data removed]",
      "text/plain": [
       "<Figure size 720x360 with 1 Axes>"
      ]
     },
     "metadata": {
      "needs_background": "light"
     },
     "output_type": "display_data"
    }
   ],
   "source": [
    "fig, ax = plt.subplots(figsize=(10,5))\n",
    "\n",
    "ax.bar(data.year, data.num_entry, color='blue', alpha=1, label='spinoffs and conversions')      \n",
    "ax.bar(data.year, data.num_endenovo, color='red', alpha=1, label='de novo')\n",
    "\n",
    "ax.axvline(x=2010, color = 'black')\n",
    "ax.text(2010.5, 250, 'Dodd-Frank Act\\nImplemented')\n",
    "\n",
    "ax.spines['top'].set_visible(False)\n",
    "ax.spines['right'].set_visible(False)\n",
    "\n",
    "ax.set_ylabel('number of new banks')\n",
    "ax.legend(frameon = False)\n",
    "\n",
    "# Restrict the figure to only show 1980 onward.\n",
    "plt.xlim((1980, 2020))\n",
    "\n",
    "plt.show()"
   ]
  },
  {
   "cell_type": "code",
   "execution_count": 4,
   "metadata": {},
   "outputs": [
    {
     "name": "stdout",
     "output_type": "stream",
     "text": [
      "avg. total entries per year: 181.27586206896552 , 17.666666666666668\n",
      "avg. de novo entries per year: 103.03448275862068 , 4.222222222222222\n",
      "de novo share of total: 0.5683850104622408 , 0.2389937106918239\n",
      "number of total entries: 5257 , 159\n",
      "number of de novo entries: 2988 , 38\n"
     ]
    }
   ],
   "source": [
    "# A few summary statistics for the draft\n",
    "pre_dodd = data[(data.year>1980) & (data.year<2010)]\n",
    "post_dodd = data[(data.year>=2010) & (data.year<=2018)]\n",
    "\n",
    "all_avg_entry_8009 = pre_dodd['num_entry'].mean()\n",
    "all_avg_entry_1018 = post_dodd['num_entry'].mean()\n",
    "\n",
    "alldn_avg_entry_8009 = pre_dodd['num_endenovo'].mean()\n",
    "alldn_avg_entry_1018 = post_dodd['num_endenovo'].mean()\n",
    "\n",
    "\n",
    "print('avg. total entries per year:', all_avg_entry_8009,',', all_avg_entry_1018)\n",
    "print('avg. de novo entries per year:', alldn_avg_entry_8009, ',', alldn_avg_entry_1018)\n",
    "print('de novo share of total:', alldn_avg_entry_8009/all_avg_entry_8009,',', alldn_avg_entry_1018/all_avg_entry_1018)\n",
    "print('number of total entries:', pre_dodd['num_entry'].sum(), ',', post_dodd['num_entry'].sum())\n",
    "print('number of de novo entries:', pre_dodd['num_endenovo'].sum(), ',', post_dodd['num_endenovo'].sum())"
   ]
  },
  {
   "cell_type": "markdown",
   "metadata": {},
   "source": [
    "## Entry vs. GDP growth\n",
    "That's a striking figure. Is it all the fault of Dodd-Frank? The United States experienced a very deep recession in 2008--09 and interest rates (which are a proxy for return on bank assets) have been historically low. Let's look into these other drivers of bank entry. \n",
    "\n",
    "Let's start by getting some data from FRED."
   ]
  },
  {
   "cell_type": "code",
   "execution_count": 5,
   "metadata": {},
   "outputs": [],
   "source": [
    "# Use the FRED api to retreive real GDP and then compute the growth rate.\n",
    "start = datetime.datetime(1979, 1, 1)\n",
    "end = datetime.datetime(2018, 1, 1)\n",
    "\n",
    "gdp = web.DataReader('GDPCA', 'fred', start, end)\n",
    "gdp['growth'] = gdp['GDPCA'].pct_change()*100"
   ]
  },
  {
   "cell_type": "markdown",
   "metadata": {},
   "source": [
    "I want to plot the pre- and post-DFA data in different colors to look for patterns. "
   ]
  },
  {
   "cell_type": "code",
   "execution_count": 6,
   "metadata": {},
   "outputs": [
    {
     "data": {
      "image/png": "[encoded data removed]",
      "text/plain": [
       "<Figure size 720x360 with 1 Axes>"
      ]
     },
     "metadata": {
      "needs_background": "light"
     },
     "output_type": "display_data"
    }
   ],
   "source": [
    "fig, ax = plt.subplots(figsize=(10,5))\n",
    "\n",
    "# Pre-DFA data\n",
    "x = gdp[(gdp.index > datetime.datetime(1979,1,1)) & (gdp.index < datetime.datetime(2010,1,1))]\n",
    "y = data[(data.year > 1979) & (data.year<2010)]\n",
    "ax.scatter(x.growth, y.num_entry, color='blue', alpha=1, label = 'pre-DFA')\n",
    "\n",
    "# Post-DFA data\n",
    "xx = gdp[gdp.index > datetime.datetime(2009,1,1)]\n",
    "yy = data[data.year > 2009]\n",
    "ax.scatter(xx.growth, yy.num_entry, color='red', alpha=1, label = 'post-DFA')\n",
    "\n",
    "ax.spines['top'].set_visible(False)\n",
    "ax.spines['right'].set_visible(False)\n",
    "\n",
    "ax.set_ylabel('number of new banks')\n",
    "ax.set_xlabel('GDP growth rate')\n",
    "\n",
    "ax.legend(frameon = False, loc='upper center', ncol=1)\n",
    "\n",
    "plt.show()\n"
   ]
  },
  {
   "cell_type": "markdown",
   "metadata": {},
   "source": [
    "## Entry vs. Fed funds rate\n",
    "Compared to previous years the post-DFA entry rates are much lower than years with similar GDP growth rates. Post-DFA entry is abnormally low given the GDP growth rate. \n",
    "\n",
    "Let's now look at interest rates. We will use the Federal funds rate --- again, from FRED."
   ]
  },
  {
   "cell_type": "code",
   "execution_count": 7,
   "metadata": {},
   "outputs": [],
   "source": [
    "# The fed funds rate from FRED comes at a daily frequency. \n",
    "ffr = web.DataReader('FEDFUNDS', 'fred', start, end)\n",
    "ffr = ffr.resample('y').mean()      # make the data annual by averaging"
   ]
  },
  {
   "cell_type": "markdown",
   "metadata": {},
   "source": [
    "Same color scheme, for the same reasons, as the GDP growth rate figure."
   ]
  },
  {
   "cell_type": "code",
   "execution_count": 8,
   "metadata": {},
   "outputs": [
    {
     "data": {
      "image/png": "[encoded data removed]",
      "text/plain": [
       "<Figure size 720x360 with 1 Axes>"
      ]
     },
     "metadata": {
      "needs_background": "light"
     },
     "output_type": "display_data"
    }
   ],
   "source": [
    "fig, ax = plt.subplots(figsize=(10,5))\n",
    "\n",
    "# Pre-DFA data\n",
    "x = ffr[(ffr.index > datetime.datetime(1979,12,31)) & (ffr.index < datetime.datetime(2010,1,1))]\n",
    "y = data[ (data.year > 1979) & (y.year < 2010)]\n",
    "ax.scatter(x.FEDFUNDS, y.num_entry, color='blue', alpha=1, label='pre-DFA')\n",
    "\n",
    "xx = ffr[ffr.index > datetime.datetime(2010,1,1)]\n",
    "yy = data[data.year > 2009]\n",
    "\n",
    "ax.scatter(xx.FEDFUNDS, yy.num_entry, color='red', alpha=1, label='post-DFA')\n",
    "\n",
    "ax.legend(frameon = False, loc='upper left', ncol=1)\n",
    "\n",
    "ax.spines['top'].set_visible(False)\n",
    "ax.spines['right'].set_visible(False)\n",
    "\n",
    "ax.set_ylabel('number of new banks')\n",
    "ax.set_xlabel('federal funds rate')\n",
    "\n",
    "plt.show()"
   ]
  },
  {
   "cell_type": "markdown",
   "metadata": {},
   "source": [
    "The entry data look less like outliers in this regard, although the more recent data points (as we move away from FFR==0) are lower than in past years."
   ]
  },
  {
   "cell_type": "markdown",
   "metadata": {},
   "source": [
    "## Predict post-DF entry\n",
    "\n",
    "Let's use a simple model to try and predict total entry based on the GDP growth rate and the fed funds rate. I suspect we could do better with a more complicated model...\n",
    "\n",
    "The idea is to estimate the model on the pre-DFA data and use it to predict the post-DFA entry rates. Comparing the predicted entry to the observed entry gives us a sense of much missing entry we observe."
   ]
  },
  {
   "cell_type": "code",
   "execution_count": 9,
   "metadata": {},
   "outputs": [
    {
     "name": "stdout",
     "output_type": "stream",
     "text": [
      "   year   FEDFUNDS  num_entry    growth\n",
      "1  1980  13.355833        204 -0.256752\n",
      "2  1981  16.378333        197  2.537719 \n",
      "\n",
      "<class 'pandas.core.frame.DataFrame'>\n",
      "Int64Index: 39 entries, 1 to 39\n",
      "Data columns (total 4 columns):\n",
      "year         39 non-null int64\n",
      "FEDFUNDS     39 non-null float64\n",
      "num_entry    39 non-null int64\n",
      "growth       39 non-null float64\n",
      "dtypes: float64(2), int64(2)\n",
      "memory usage: 1.5 KB\n",
      "None\n"
     ]
    }
   ],
   "source": [
    "# Create a data set with ffr, gdp growth and entry. \n",
    "gdp['year'] = gdp.index.year\n",
    "ffr['year'] = ffr.index.year\n",
    "data_all = pd.merge(left=ffr,      right=gdp, right_on='year', left_on='year')\n",
    "data_all = pd.merge(left=data_all, right=data, left_on='year', right_on='year')\n",
    "\n",
    "# Drop pre-1980, keep the variables we need\n",
    "data_all = data_all[data_all.year > 1979]\n",
    "data_all = data_all[['year', 'FEDFUNDS', 'num_entry', 'growth']]\n",
    "print(data_all.head(2),'\\n')\n",
    "print(data_all.info())"
   ]
  },
  {
   "cell_type": "markdown",
   "metadata": {},
   "source": [
    "### Estimate the model on the pre-DFA data: OLS\n",
    "Start with a simple OLS model. "
   ]
  },
  {
   "cell_type": "code",
   "execution_count": 10,
   "metadata": {},
   "outputs": [
    {
     "name": "stdout",
     "output_type": "stream",
     "text": [
      "                            OLS Regression Results                            \n",
      "==============================================================================\n",
      "Dep. Variable:              num_entry   R-squared:                       0.570\n",
      "Model:                            OLS   Adj. R-squared:                  0.538\n",
      "Method:                 Least Squares   F-statistic:                     8.407\n",
      "Date:                Fri, 31 May 2019   Prob (F-statistic):            0.00145\n",
      "Time:                        11:16:15   Log-Likelihood:                -163.38\n",
      "No. Observations:                  30   AIC:                             332.8\n",
      "Df Residuals:                      27   BIC:                             337.0\n",
      "Df Model:                           2                                         \n",
      "Covariance Type:                  HC3                                         \n",
      "==============================================================================\n",
      "                 coef    std err          z      P>|z|      [0.025      0.975]\n",
      "------------------------------------------------------------------------------\n",
      "Intercept     49.8476     28.145      1.771      0.077      -5.316     105.011\n",
      "FEDFUNDS      14.4631      5.877      2.461      0.014       2.945      25.981\n",
      "growth        16.3853      7.458      2.197      0.028       1.769      31.002\n",
      "==============================================================================\n",
      "Omnibus:                        0.831   Durbin-Watson:                   0.976\n",
      "Prob(Omnibus):                  0.660   Jarque-Bera (JB):                0.350\n",
      "Skew:                          -0.262   Prob(JB):                        0.840\n",
      "Kurtosis:                       3.070   Cond. No.                         17.4\n",
      "==============================================================================\n",
      "\n",
      "Warnings:\n",
      "[1] Standard Errors are heteroscedasticity robust (HC3)\n"
     ]
    }
   ],
   "source": [
    "res = smf.ols('num_entry ~ FEDFUNDS + growth', data=data_all[data_all.year<2010]).fit(cov_type='HC3')\n",
    "print(res.summary())"
   ]
  },
  {
   "cell_type": "code",
   "execution_count": 11,
   "metadata": {},
   "outputs": [
    {
     "data": {
      "image/png": "[encoded data removed]",
      "text/plain": [
       "<Figure size 720x360 with 1 Axes>"
      ]
     },
     "metadata": {
      "needs_background": "light"
     },
     "output_type": "display_data"
    }
   ],
   "source": [
    "# Add the residuals to the data and plot them.\n",
    "data_all['resids'] = res.resid\n",
    "fig, ax = plt.subplots(figsize=(10,5))\n",
    "\n",
    "ax.scatter(data_all[data_all.year<2010].year, data_all[data_all.year<2010].resids, color='blue')\n",
    "\n",
    "ax.set_ylabel('residual')\n",
    "\n",
    "ax.spines['top'].set_visible(False)\n",
    "ax.spines['right'].set_visible(False)\n",
    "\n",
    "plt.show()"
   ]
  },
  {
   "cell_type": "markdown",
   "metadata": {},
   "source": [
    "### Estimate the model on the pre-DFA data: GLSAR\n",
    "Looks like some serial correlation in the error term. Let's model that as an AR process and run a GLSAR model."
   ]
  },
  {
   "cell_type": "code",
   "execution_count": 12,
   "metadata": {},
   "outputs": [
    {
     "data": {
      "text/html": [
       "<table class=\"simpletable\">\n",
       "<caption>GLSAR Regression Results</caption>\n",
       "<tr>\n",
       "  <th>Dep. Variable:</th>        <td>num_entry</td>    <th>  R-squared:         </th> <td>   0.612</td>\n",
       "</tr>\n",
       "<tr>\n",
       "  <th>Model:</th>                  <td>GLSAR</td>      <th>  Adj. R-squared:    </th> <td>   0.579</td>\n",
       "</tr>\n",
       "<tr>\n",
       "  <th>Method:</th>             <td>Least Squares</td>  <th>  F-statistic:       </th> <td>   18.16</td>\n",
       "</tr>\n",
       "<tr>\n",
       "  <th>Date:</th>             <td>Fri, 31 May 2019</td> <th>  Prob (F-statistic):</th> <td>1.85e-05</td>\n",
       "</tr>\n",
       "<tr>\n",
       "  <th>Time:</th>                 <td>11:16:15</td>     <th>  Log-Likelihood:    </th> <td> -124.45</td>\n",
       "</tr>\n",
       "<tr>\n",
       "  <th>No. Observations:</th>      <td>    26</td>      <th>  AIC:               </th> <td>   254.9</td>\n",
       "</tr>\n",
       "<tr>\n",
       "  <th>Df Residuals:</th>          <td>    23</td>      <th>  BIC:               </th> <td>   258.7</td>\n",
       "</tr>\n",
       "<tr>\n",
       "  <th>Df Model:</th>              <td>     2</td>      <th>                     </th>     <td> </td>   \n",
       "</tr>\n",
       "<tr>\n",
       "  <th>Covariance Type:</th>      <td>nonrobust</td>    <th>                     </th>     <td> </td>   \n",
       "</tr>\n",
       "</table>\n",
       "<table class=\"simpletable\">\n",
       "<tr>\n",
       "      <td></td>         <th>coef</th>     <th>std err</th>      <th>t</th>      <th>P>|t|</th>  <th>[0.025</th>    <th>0.975]</th>  \n",
       "</tr>\n",
       "<tr>\n",
       "  <th>Intercept</th> <td>   60.7570</td> <td>   20.362</td> <td>    2.984</td> <td> 0.007</td> <td>   18.636</td> <td>  102.879</td>\n",
       "</tr>\n",
       "<tr>\n",
       "  <th>FEDFUNDS</th>  <td>   18.0552</td> <td>    3.445</td> <td>    5.241</td> <td> 0.000</td> <td>   10.928</td> <td>   25.182</td>\n",
       "</tr>\n",
       "<tr>\n",
       "  <th>growth</th>    <td>    4.5888</td> <td>    4.495</td> <td>    1.021</td> <td> 0.318</td> <td>   -4.709</td> <td>   13.887</td>\n",
       "</tr>\n",
       "</table>\n",
       "<table class=\"simpletable\">\n",
       "<tr>\n",
       "  <th>Omnibus:</th>       <td> 0.395</td> <th>  Durbin-Watson:     </th> <td>   2.071</td>\n",
       "</tr>\n",
       "<tr>\n",
       "  <th>Prob(Omnibus):</th> <td> 0.821</td> <th>  Jarque-Bera (JB):  </th> <td>   0.366</td>\n",
       "</tr>\n",
       "<tr>\n",
       "  <th>Skew:</th>          <td>-0.250</td> <th>  Prob(JB):          </th> <td>   0.833</td>\n",
       "</tr>\n",
       "<tr>\n",
       "  <th>Kurtosis:</th>      <td> 2.706</td> <th>  Cond. No.          </th> <td>    14.5</td>\n",
       "</tr>\n",
       "</table><br/><br/>Warnings:<br/>[1] Standard Errors assume that the covariance matrix of the errors is correctly specified."
      ],
      "text/plain": [
       "<class 'statsmodels.iolib.summary.Summary'>\n",
       "\"\"\"\n",
       "                           GLSAR Regression Results                           \n",
       "==============================================================================\n",
       "Dep. Variable:              num_entry   R-squared:                       0.612\n",
       "Model:                          GLSAR   Adj. R-squared:                  0.579\n",
       "Method:                 Least Squares   F-statistic:                     18.16\n",
       "Date:                Fri, 31 May 2019   Prob (F-statistic):           1.85e-05\n",
       "Time:                        11:16:15   Log-Likelihood:                -124.45\n",
       "No. Observations:                  26   AIC:                             254.9\n",
       "Df Residuals:                      23   BIC:                             258.7\n",
       "Df Model:                           2                                         \n",
       "Covariance Type:            nonrobust                                         \n",
       "==============================================================================\n",
       "                 coef    std err          t      P>|t|      [0.025      0.975]\n",
       "------------------------------------------------------------------------------\n",
       "Intercept     60.7570     20.362      2.984      0.007      18.636     102.879\n",
       "FEDFUNDS      18.0552      3.445      5.241      0.000      10.928      25.182\n",
       "growth         4.5888      4.495      1.021      0.318      -4.709      13.887\n",
       "==============================================================================\n",
       "Omnibus:                        0.395   Durbin-Watson:                   2.071\n",
       "Prob(Omnibus):                  0.821   Jarque-Bera (JB):                0.366\n",
       "Skew:                          -0.250   Prob(JB):                        0.833\n",
       "Kurtosis:                       2.706   Cond. No.                         14.5\n",
       "==============================================================================\n",
       "\n",
       "Warnings:\n",
       "[1] Standard Errors assume that the covariance matrix of the errors is correctly specified.\n",
       "\"\"\""
      ]
     },
     "execution_count": 12,
     "metadata": {},
     "output_type": "execute_result"
    }
   ],
   "source": [
    "# I do not think the GLSAR model is directly callable from the formulas api, so I create the design matrices first.\n",
    "endog, exog = patsy.dmatrices('num_entry ~ FEDFUNDS + growth', data_all[data_all.year<2010])\n",
    "mod3 = sm.GLSAR(endog, exog, rho=4)\n",
    "res3 = mod3.iterative_fit()\n",
    "res3.summary()"
   ]
  },
  {
   "cell_type": "markdown",
   "metadata": {},
   "source": [
    "Below are the error term AR coefficients."
   ]
  },
  {
   "cell_type": "code",
   "execution_count": 13,
   "metadata": {},
   "outputs": [
    {
     "data": {
      "text/plain": [
       "array([ 0.77207524, -0.28723858,  0.03259504, -0.15351329])"
      ]
     },
     "execution_count": 13,
     "metadata": {},
     "output_type": "execute_result"
    }
   ],
   "source": [
    "mod3.rho"
   ]
  },
  {
   "cell_type": "markdown",
   "metadata": {},
   "source": [
    "### Use the estimated model to make predictions\n",
    "Now we can use the models to create predictions for the post-DFA period. "
   ]
  },
  {
   "cell_type": "code",
   "execution_count": 14,
   "metadata": {},
   "outputs": [
    {
     "data": {
      "text/html": [
       "<div>\n",
       "<style scoped>\n",
       "    .dataframe tbody tr th:only-of-type {\n",
       "        vertical-align: middle;\n",
       "    }\n",
       "\n",
       "    .dataframe tbody tr th {\n",
       "        vertical-align: top;\n",
       "    }\n",
       "\n",
       "    .dataframe thead th {\n",
       "        text-align: right;\n",
       "    }\n",
       "</style>\n",
       "<table border=\"1\" class=\"dataframe\">\n",
       "  <thead>\n",
       "    <tr style=\"text-align: right;\">\n",
       "      <th></th>\n",
       "      <th>year</th>\n",
       "      <th>FEDFUNDS</th>\n",
       "      <th>growth</th>\n",
       "      <th>num_entry</th>\n",
       "      <th>pred</th>\n",
       "      <th>pred_glsar</th>\n",
       "    </tr>\n",
       "  </thead>\n",
       "  <tbody>\n",
       "    <tr>\n",
       "      <th>31</th>\n",
       "      <td>2010</td>\n",
       "      <td>0.175</td>\n",
       "      <td>2.563767</td>\n",
       "      <td>13</td>\n",
       "      <td>94.386713</td>\n",
       "      <td>75.68138</td>\n",
       "    </tr>\n",
       "  </tbody>\n",
       "</table>\n",
       "</div>"
      ],
      "text/plain": [
       "    year  FEDFUNDS    growth  num_entry       pred  pred_glsar\n",
       "31  2010     0.175  2.563767         13  94.386713    75.68138"
      ]
     },
     "execution_count": 14,
     "metadata": {},
     "output_type": "execute_result"
    }
   ],
   "source": [
    "# The post-DFA data set\n",
    "pred_data = data_all[data_all.year>=2010][['year', 'FEDFUNDS', 'growth', 'num_entry']]\n",
    "\n",
    "# ols predicitions\n",
    "pred_data.loc[:, 'pred'] = res.predict(pred_data)\n",
    "\n",
    "# glas predictions(takes a bit more work...)\n",
    "endogp, exogp = patsy.dmatrices('num_entry ~ FEDFUNDS + growth', data_all[data_all.year>=2010])\n",
    "pred_data.loc[:, 'pred_glsar'] = pd.Series(res3.predict(exogp), index = [31, 32, 33, 34, 35, 36, 37, 38, 39])\n",
    "\n",
    "pred_data.head(1)"
   ]
  },
  {
   "cell_type": "code",
   "execution_count": 15,
   "metadata": {},
   "outputs": [],
   "source": [
    "# Set up the fitted values for plotting\n",
    "fitted = pd.DataFrame({'fitted_vals': res3.fittedvalues})\n",
    "fitted.index =  data_all[data_all.year<2010]['year']"
   ]
  },
  {
   "cell_type": "code",
   "execution_count": 16,
   "metadata": {},
   "outputs": [
    {
     "name": "stdout",
     "output_type": "stream",
     "text": [
      "predicted bank entry: 703.5594560090683\n",
      "this is 22.599369341423596 of the observed\n"
     ]
    }
   ],
   "source": [
    "print('predicted bank entry:', pred_data['pred_glsar'].sum())\n",
    "print('this is', post_dodd['num_entry'].sum()/pred_data['pred_glsar'].sum()*100, 'of the observed' )"
   ]
  },
  {
   "cell_type": "markdown",
   "metadata": {},
   "source": [
    "## Add the predictions to the plot"
   ]
  },
  {
   "cell_type": "code",
   "execution_count": 17,
   "metadata": {
    "scrolled": true
   },
   "outputs": [
    {
     "data": {
      "image/png": "[encoded data removed]",
      "text/plain": [
       "<Figure size 720x360 with 1 Axes>"
      ]
     },
     "metadata": {
      "needs_background": "light"
     },
     "output_type": "display_data"
    }
   ],
   "source": [
    "fig, ax = plt.subplots(figsize=(10,5))\n",
    "\n",
    "ax.bar(data.year, data.num_entry, color='blue',  label='spinoffs and conversions', zorder = 1)      # bar(x labels, )\n",
    "ax.bar(data.year, data.num_endenovo, color='red', label='de novo', zorder = 2)\n",
    "\n",
    "ax.scatter(pred_data.year, pred_data.pred_glsar, color='black', label='predicted total entry', zorder=3)\n",
    "# ax.scatter(fitted.index, fitted.fitted_vals, color='black', label='in-sample fit', zorder=10, marker='*')\n",
    "\n",
    "ax.axvline(x=2010, color = 'black')\n",
    "ax.text(2010.5, 250, 'Dodd-Frank Act\\nImplemented')\n",
    "\n",
    "ax.spines['top'].set_visible(False)\n",
    "ax.spines['right'].set_visible(False)\n",
    "\n",
    "ax.set_ylabel('number of new banks')\n",
    "ax.legend(frameon = False)\n",
    "\n",
    "plt.xlim((1980, 2020))\n",
    "\n",
    "fig.savefig('agg_entry.pdf', bbox_inches='tight')\n",
    "\n",
    "plt.show()"
   ]
  },
  {
   "cell_type": "markdown",
   "metadata": {},
   "source": [
    "## Wisconsin entry \n",
    "How much of this entry is in Wisconsin? A preliminary look. These data are from Kuan Liu. See Liu (2009) for details. "
   ]
  },
  {
   "cell_type": "code",
   "execution_count": 18,
   "metadata": {},
   "outputs": [],
   "source": [
    "to_keep = ['entry_ind', 'date', 'year', 'bank_id', 'name', 'date_est', 'type', 'city']\n",
    "wi_data = pd.read_csv('call_reports_WI.csv', low_memory=False, usecols=to_keep)"
   ]
  },
  {
   "cell_type": "code",
   "execution_count": 19,
   "metadata": {},
   "outputs": [],
   "source": [
    "wi_entry = wi_data[['year', 'entry_ind']].groupby('year').sum()\n",
    "wi_all = wi_data[['year', 'bank_id']].groupby('year').count()"
   ]
  },
  {
   "cell_type": "code",
   "execution_count": 20,
   "metadata": {},
   "outputs": [],
   "source": [
    "wi_avg_entry_8009 = wi_entry[(2010 > wi_entry.index) & (wi_entry.index > 1979)].mean()\n",
    "wi_avg_entry_1018 = wi_entry[(2010 <= wi_entry.index) & (wi_entry.index <= 2018)].mean()"
   ]
  },
  {
   "cell_type": "code",
   "execution_count": 21,
   "metadata": {},
   "outputs": [
    {
     "name": "stdout",
     "output_type": "stream",
     "text": [
      "share of bank entry in wisconsin: [1.32394902] , [1.25786164]\n",
      "missing entry in wisconsin: [7.21552216]\n"
     ]
    }
   ],
   "source": [
    "wi_share_post = wi_avg_entry_1018/all_avg_entry_1018*100\n",
    "wi_share_pre = wi_avg_entry_8009/all_avg_entry_8009*100\n",
    "\n",
    "print('share of bank entry in wisconsin:', wi_share_pre.values, ',', wi_share_post.values)\n",
    "print('missing entry in wisconsin:', wi_share_pre.values/100*545)"
   ]
  },
  {
   "cell_type": "code",
   "execution_count": 22,
   "metadata": {},
   "outputs": [
    {
     "name": "stdout",
     "output_type": "stream",
     "text": [
      "number of small banks in wi in 2009: [245]\n"
     ]
    }
   ],
   "source": [
    "print('number of small banks in wi in 2009:', wi_all.loc[2009].values)"
   ]
  }
 ],
 "metadata": {
  "kernelspec": {
   "display_name": "Python 3",
   "language": "python",
   "name": "python3"
  },
  "language_info": {
   "codemirror_mode": {
    "name": "ipython",
    "version": 3
   },
   "file_extension": ".py",
   "mimetype": "text/x-python",
   "name": "python",
   "nbconvert_exporter": "python",
   "pygments_lexer": "ipython3",
   "version": "3.7.3"
  }
 },
 "nbformat": 4,
 "nbformat_minor": 2
}
